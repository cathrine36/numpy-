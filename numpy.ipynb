{
  "nbformat": 4,
  "nbformat_minor": 0,
  "metadata": {
    "colab": {
      "name": "numpy.ipynb",
      "provenance": [],
      "collapsed_sections": [],
      "authorship_tag": "ABX9TyMSASw8J2Vt4IfOFv7SaBt5",
      "include_colab_link": true
    },
    "kernelspec": {
      "name": "python3",
      "display_name": "Python 3"
    }
  },
  "cells": [
    {
      "cell_type": "markdown",
      "metadata": {
        "id": "view-in-github",
        "colab_type": "text"
      },
      "source": [
        "<a href=\"https://colab.research.google.com/github/cathrine36/numpy-/blob/master/numpy.ipynb\" target=\"_parent\"><img src=\"https://colab.research.google.com/assets/colab-badge.svg\" alt=\"Open In Colab\"/></a>"
      ]
    },
    {
      "cell_type": "code",
      "metadata": {
        "id": "jNXkbJwrL41S",
        "colab_type": "code",
        "colab": {}
      },
      "source": [
        "import numpy as np"
      ],
      "execution_count": 0,
      "outputs": []
    },
    {
      "cell_type": "code",
      "metadata": {
        "id": "kp9DMjQtNm4W",
        "colab_type": "code",
        "colab": {
          "base_uri": "https://localhost:8080/",
          "height": 34
        },
        "outputId": "a1a9600b-3e6f-4e86-a210-51b4da3df2e9"
      },
      "source": [
        "lst=[1,2,3,9,8,7]\n",
        "arr=np.array(lst)\n",
        "type(arr)\n",
        "print(arr)"
      ],
      "execution_count": 44,
      "outputs": [
        {
          "output_type": "stream",
          "text": [
            "[1 2 3 9 8 7]\n"
          ],
          "name": "stdout"
        }
      ]
    },
    {
      "cell_type": "code",
      "metadata": {
        "id": "ft5xSspSN41-",
        "colab_type": "code",
        "colab": {
          "base_uri": "https://localhost:8080/",
          "height": 67
        },
        "outputId": "7164c307-29a3-40dc-9e2c-a34460c11896"
      },
      "source": [
        "lst1=[1,2,3]\n",
        "lst2=[9,7,6]\n",
        "lst3=[3,4,5]\n",
        "arr1=np.array([lst1,lst2,lst3])\n",
        "print(arr1)"
      ],
      "execution_count": 41,
      "outputs": [
        {
          "output_type": "stream",
          "text": [
            "[[1 2 3]\n",
            " [9 7 6]\n",
            " [3 4 5]]\n"
          ],
          "name": "stdout"
        }
      ]
    },
    {
      "cell_type": "code",
      "metadata": {
        "id": "EEsdf_OWOruX",
        "colab_type": "code",
        "colab": {
          "base_uri": "https://localhost:8080/",
          "height": 34
        },
        "outputId": "96a8a8c8-0a8a-45c1-eeaf-74fcced5abfe"
      },
      "source": [
        "arr1.shape\n"
      ],
      "execution_count": 11,
      "outputs": [
        {
          "output_type": "execute_result",
          "data": {
            "text/plain": [
              "(3, 3)"
            ]
          },
          "metadata": {
            "tags": []
          },
          "execution_count": 11
        }
      ]
    },
    {
      "cell_type": "code",
      "metadata": {
        "id": "lbA0im56PE0s",
        "colab_type": "code",
        "colab": {
          "base_uri": "https://localhost:8080/",
          "height": 101
        },
        "outputId": "d3120ad6-001a-4c4f-9287-4c93cbdf384e"
      },
      "source": [
        "print(arr1)\n",
        "arr1[:2,:1]"
      ],
      "execution_count": 42,
      "outputs": [
        {
          "output_type": "stream",
          "text": [
            "[[1 2 3]\n",
            " [9 7 6]\n",
            " [3 4 5]]\n"
          ],
          "name": "stdout"
        },
        {
          "output_type": "execute_result",
          "data": {
            "text/plain": [
              "array([[1],\n",
              "       [9]])"
            ]
          },
          "metadata": {
            "tags": []
          },
          "execution_count": 42
        }
      ]
    },
    {
      "cell_type": "code",
      "metadata": {
        "id": "IZDC7_e3Qodi",
        "colab_type": "code",
        "colab": {
          "base_uri": "https://localhost:8080/",
          "height": 34
        },
        "outputId": "3d4d1fbd-8573-4b67-aa70-f07362ff9b2c"
      },
      "source": [
        "arr[4:]=100\n",
        "print(arr)"
      ],
      "execution_count": 45,
      "outputs": [
        {
          "output_type": "stream",
          "text": [
            "[  1   2   3   9 100 100]\n"
          ],
          "name": "stdout"
        }
      ]
    },
    {
      "cell_type": "code",
      "metadata": {
        "id": "2zGAfUlNRf1L",
        "colab_type": "code",
        "colab": {
          "base_uri": "https://localhost:8080/",
          "height": 34
        },
        "outputId": "db8cf950-fe97-4a24-8fc0-1d66221c013d"
      },
      "source": [
        "val=2\n",
        "arr1[val<arr1]"
      ],
      "execution_count": 46,
      "outputs": [
        {
          "output_type": "execute_result",
          "data": {
            "text/plain": [
              "array([3, 9, 7, 6, 3, 4, 5])"
            ]
          },
          "metadata": {
            "tags": []
          },
          "execution_count": 46
        }
      ]
    },
    {
      "cell_type": "code",
      "metadata": {
        "id": "mIdHAFVESLrw",
        "colab_type": "code",
        "colab": {}
      },
      "source": [
        "arr2=np.arange(0,6).reshape(2,3)\n",
        "arr3=np.arange(0,6).reshape(2,3)\n",
        "arr4=np.arange(0,6).reshape(2,3)"
      ],
      "execution_count": 0,
      "outputs": []
    },
    {
      "cell_type": "code",
      "metadata": {
        "id": "TuYLDrpES2V_",
        "colab_type": "code",
        "colab": {
          "base_uri": "https://localhost:8080/",
          "height": 50
        },
        "outputId": "e3014fed-3d1f-415c-8d31-4bd010d6419e"
      },
      "source": [
        "arr3*arr2"
      ],
      "execution_count": 53,
      "outputs": [
        {
          "output_type": "execute_result",
          "data": {
            "text/plain": [
              "array([[ 0,  1,  4],\n",
              "       [ 9, 16, 25]])"
            ]
          },
          "metadata": {
            "tags": []
          },
          "execution_count": 53
        }
      ]
    },
    {
      "cell_type": "code",
      "metadata": {
        "id": "3bgXY9MuS-jw",
        "colab_type": "code",
        "colab": {
          "base_uri": "https://localhost:8080/",
          "height": 134
        },
        "outputId": "1870f702-3b3d-4734-cdb5-63a292e9d8d4"
      },
      "source": [
        "sz=np.zeros((7,6),dtype = float)\n",
        "sz"
      ],
      "execution_count": 54,
      "outputs": [
        {
          "output_type": "execute_result",
          "data": {
            "text/plain": [
              "array([[0., 0., 0., 0., 0., 0.],\n",
              "       [0., 0., 0., 0., 0., 0.],\n",
              "       [0., 0., 0., 0., 0., 0.],\n",
              "       [0., 0., 0., 0., 0., 0.],\n",
              "       [0., 0., 0., 0., 0., 0.],\n",
              "       [0., 0., 0., 0., 0., 0.],\n",
              "       [0., 0., 0., 0., 0., 0.]])"
            ]
          },
          "metadata": {
            "tags": []
          },
          "execution_count": 54
        }
      ]
    },
    {
      "cell_type": "code",
      "metadata": {
        "id": "j3vJSFyLSqon",
        "colab_type": "code",
        "colab": {
          "base_uri": "https://localhost:8080/",
          "height": 50
        },
        "outputId": "fc8b943c-9cb1-4535-f16a-3476473be5dc"
      },
      "source": [
        "print(arr2)"
      ],
      "execution_count": 50,
      "outputs": [
        {
          "output_type": "stream",
          "text": [
            "[[0 1 2]\n",
            " [3 4 5]]\n"
          ],
          "name": "stdout"
        }
      ]
    },
    {
      "cell_type": "code",
      "metadata": {
        "id": "b2AvG3yWTZ7M",
        "colab_type": "code",
        "colab": {
          "base_uri": "https://localhost:8080/",
          "height": 151
        },
        "outputId": "5ac1b44e-4da0-47ee-d949-843d9052fc3f"
      },
      "source": [
        "w=np.random.rand(2,20)\n",
        "w"
      ],
      "execution_count": 63,
      "outputs": [
        {
          "output_type": "execute_result",
          "data": {
            "text/plain": [
              "array([[0.03485119, 0.75613591, 0.35115054, 0.44144844, 0.20960641,\n",
              "        0.58787202, 0.66432273, 0.14755201, 0.64702295, 0.56370848,\n",
              "        0.24396486, 0.58515934, 0.37235857, 0.70310943, 0.26884586,\n",
              "        0.04085326, 0.4239934 , 0.93903378, 0.20282361, 0.64651551],\n",
              "       [0.57666268, 0.76984315, 0.67453654, 0.97610907, 0.46004431,\n",
              "        0.74298317, 0.41495575, 0.96007615, 0.29945346, 0.00855721,\n",
              "        0.81597975, 0.45676091, 0.47386928, 0.94426644, 0.75951792,\n",
              "        0.8808204 , 0.07239072, 0.44627649, 0.83373473, 0.05177937]])"
            ]
          },
          "metadata": {
            "tags": []
          },
          "execution_count": 63
        }
      ]
    },
    {
      "cell_type": "code",
      "metadata": {
        "id": "EDjQpCGUTl2a",
        "colab_type": "code",
        "colab": {}
      },
      "source": [
        ""
      ],
      "execution_count": 0,
      "outputs": []
    }
  ]
}